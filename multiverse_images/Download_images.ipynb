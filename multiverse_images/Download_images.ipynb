{
 "cells": [
  {
   "cell_type": "code",
   "execution_count": 1,
   "id": "87785f40",
   "metadata": {},
   "outputs": [],
   "source": [
    "import os, urllib.request, json\n",
    "from serpapi import GoogleSearch\n",
    "from urllib.error import HTTPError"
   ]
  },
  {
   "cell_type": "code",
   "execution_count": 95,
   "id": "08ffaa6c",
   "metadata": {},
   "outputs": [],
   "source": [
    "config = {\n",
    "    \"lang\": \"de\",\n",
    "    \"query\": \"Ausbruch der Beulenpest in der Mongolei\",\n",
    "    \"query_folder_index\": 1,\n",
    "    \"num_images\": 40\n",
    "}"
   ]
  },
  {
   "cell_type": "code",
   "execution_count": 96,
   "id": "c1fb2fa0",
   "metadata": {},
   "outputs": [],
   "source": [
    "def check_folders(path):\n",
    "    if not os.path.exists(path):\n",
    "        os.makedirs(path)"
   ]
  },
  {
   "cell_type": "code",
   "execution_count": 97,
   "id": "df0aa72d",
   "metadata": {},
   "outputs": [],
   "source": [
    "def get_google_images(config):\n",
    "    params = {\n",
    "      \"api_key\": \"<YOUR_SERPAPI_KEY>\",\n",
    "      \"engine\": \"google\",\n",
    "      \"q\": config[\"query\"],\n",
    "      \"tbm\": \"isch\"\n",
    "    }\n",
    "    path = f\"./data/{config['query_folder_index']}/{config['lang']}/\"\n",
    "    check_folders(path)\n",
    "\n",
    "    search = GoogleSearch(params)\n",
    "    results = search.get_dict()\n",
    "    k = 0\n",
    "    for image in results['images_results']:\n",
    "        if k == config[\"num_images\"]:\n",
    "            break\n",
    "        print(f'Downloading {k} image...')\n",
    "        opener=urllib.request.build_opener()\n",
    "        opener.addheaders=[('User-Agent','Mozilla/5.0 (Windows NT 10.0; Win64; x64) AppleWebKit/537.36 (KHTML, like Gecko) Chrome/70.0.3538.102 Safari/537.36 Edge/18.19582')]\n",
    "        urllib.request.install_opener(opener)\n",
    "        try:\n",
    "            urllib.request.urlretrieve(image['original'], f'{path}img_{k}.jpg')\n",
    "            k += 1\n",
    "        except Exception:\n",
    "            print(\"Image skipped due to error\")"
   ]
  },
  {
   "cell_type": "code",
   "execution_count": 98,
   "id": "791c1676",
   "metadata": {},
   "outputs": [
    {
     "name": "stdout",
     "output_type": "stream",
     "text": [
      "https://serpapi.com/search\n",
      "Downloading 0 image...\n",
      "Downloading 1 image...\n",
      "Downloading 2 image...\n",
      "Downloading 3 image...\n",
      "Image skipped due to error\n",
      "Downloading 3 image...\n",
      "Downloading 4 image...\n",
      "Downloading 5 image...\n",
      "Downloading 6 image...\n",
      "Downloading 7 image...\n",
      "Downloading 8 image...\n",
      "Downloading 9 image...\n",
      "Downloading 10 image...\n",
      "Downloading 11 image...\n",
      "Downloading 12 image...\n",
      "Downloading 13 image...\n",
      "Downloading 14 image...\n",
      "Downloading 15 image...\n",
      "Image skipped due to error\n",
      "Downloading 15 image...\n",
      "Downloading 16 image...\n",
      "Downloading 17 image...\n",
      "Downloading 18 image...\n",
      "Downloading 19 image...\n",
      "Downloading 20 image...\n",
      "Downloading 21 image...\n",
      "Downloading 22 image...\n",
      "Downloading 23 image...\n",
      "Downloading 24 image...\n",
      "Downloading 25 image...\n",
      "Downloading 26 image...\n",
      "Image skipped due to error\n",
      "Downloading 26 image...\n",
      "Downloading 27 image...\n",
      "Downloading 28 image...\n",
      "Image skipped due to error\n"
     ]
    }
   ],
   "source": [
    "get_google_images(config)"
   ]
  },
  {
   "cell_type": "code",
   "execution_count": 3,
   "id": "aa7f4206",
   "metadata": {},
   "outputs": [],
   "source": [
    "import pandas as pd"
   ]
  },
  {
   "cell_type": "code",
   "execution_count": 7,
   "id": "58e3153c",
   "metadata": {},
   "outputs": [],
   "source": [
    "title1= \"Lottery winner arrested for dumping $200,000 of manure on ex-boss’ lawn\"\n",
    "title2 = \"Bubonic plague outbreak in Mongolia\"\n",
    "index_title = pd.DataFrame([[0, title1], [1, title2]], columns = [\"Index\", \"Title_eng\"])"
   ]
  },
  {
   "cell_type": "code",
   "execution_count": 9,
   "id": "c51d55b1",
   "metadata": {},
   "outputs": [],
   "source": [
    "index_title.to_csv(\"./data/index_title.csv\", index = False)"
   ]
  },
  {
   "cell_type": "code",
   "execution_count": null,
   "id": "f37526fe",
   "metadata": {},
   "outputs": [],
   "source": []
  }
 ],
 "metadata": {
  "kernelspec": {
   "display_name": "resPan",
   "language": "python",
   "name": "respan"
  },
  "language_info": {
   "codemirror_mode": {
    "name": "ipython",
    "version": 3
   },
   "file_extension": ".py",
   "mimetype": "text/x-python",
   "name": "python",
   "nbconvert_exporter": "python",
   "pygments_lexer": "ipython3",
   "version": "3.9.6"
  }
 },
 "nbformat": 4,
 "nbformat_minor": 5
}
